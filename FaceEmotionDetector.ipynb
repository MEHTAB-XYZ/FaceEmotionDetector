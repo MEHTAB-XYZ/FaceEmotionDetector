{
 "cells": [
  {
   "cell_type": "code",
   "execution_count": 1,
   "id": "a550137f",
   "metadata": {},
   "outputs": [],
   "source": [
    "from tensorflow.keras.utils import to_categorical\n",
    "from keras_preprocessing.image import load_img\n",
    "from tensorflow.keras.models import Sequential\n",
    "from tensorflow.keras.layers import Dense, Conv2D, Dropout, Flatten, MaxPooling2D\n",
    "import os\n",
    "import pandas as pd\n",
    "import numpy as np"
   ]
  },
  {
   "cell_type": "code",
   "execution_count": 2,
   "id": "79d28e96",
   "metadata": {},
   "outputs": [],
   "source": [
    "TRAIN_DIR =r'C:\\Users\\mehta\\OneDrive\\Desktop\\Face_Emotion_Detection\\archive\\train'\n",
    "TEST_DIR =r'C:\\Users\\mehta\\OneDrive\\Desktop\\Face_Emotion_Detection\\archive\\test'"
   ]
  },
  {
   "cell_type": "markdown",
   "id": "6300be86-696f-4cb0-8d20-4ecd327dee8d",
   "metadata": {},
   "source": [
    "### Configuring GPU for more efficient training"
   ]
  },
  {
   "cell_type": "code",
   "execution_count": 3,
   "id": "3e0a1af1",
   "metadata": {},
   "outputs": [
    {
     "name": "stdout",
     "output_type": "stream",
     "text": [
      "TensorFlow version: 2.10.1\n",
      "Num GPUs Available:  1\n"
     ]
    }
   ],
   "source": [
    "import tensorflow as tf\n",
    "print(\"TensorFlow version:\", tf.__version__)\n",
    "print(\"Num GPUs Available: \", len(tf.config.list_physical_devices('GPU')))\n"
   ]
  },
  {
   "cell_type": "code",
   "execution_count": 4,
   "id": "666c6e89",
   "metadata": {},
   "outputs": [],
   "source": [
    "def createDataFrame(dir):\n",
    "    image_paths = []\n",
    "    labels = []\n",
    "    for label in os.listdir(dir):\n",
    "        label_path = os.path.join(dir, label)\n",
    "        if os.path.isdir(label_path):  # Check if it's a directory\n",
    "            for imagename in os.listdir(label_path):\n",
    "                image_paths.append(os.path.join(label_path, imagename))\n",
    "                labels.append(label)\n",
    "        print(label, \"completed\")\n",
    "    return image_paths, labels\n"
   ]
  },
  {
   "cell_type": "code",
   "execution_count": 5,
   "id": "4cf8ecaf",
   "metadata": {},
   "outputs": [
    {
     "name": "stdout",
     "output_type": "stream",
     "text": [
      "angry completed\n",
      "disgust completed\n",
      "fear completed\n",
      "happy completed\n",
      "neutral completed\n",
      "sad completed\n",
      "surprise completed\n"
     ]
    }
   ],
   "source": [
    "train = pd.DataFrame()\n",
    "train['Image'],train['Labels'] = createDataFrame(TRAIN_DIR)"
   ]
  },
  {
   "cell_type": "code",
   "execution_count": 6,
   "id": "80201341",
   "metadata": {},
   "outputs": [
    {
     "data": {
      "text/plain": [
       "(28709, 2)"
      ]
     },
     "execution_count": 6,
     "metadata": {},
     "output_type": "execute_result"
    }
   ],
   "source": [
    "train.shape"
   ]
  },
  {
   "cell_type": "code",
   "execution_count": 7,
   "id": "3fc0d249",
   "metadata": {},
   "outputs": [
    {
     "data": {
      "text/html": [
       "<div>\n",
       "<style scoped>\n",
       "    .dataframe tbody tr th:only-of-type {\n",
       "        vertical-align: middle;\n",
       "    }\n",
       "\n",
       "    .dataframe tbody tr th {\n",
       "        vertical-align: top;\n",
       "    }\n",
       "\n",
       "    .dataframe thead th {\n",
       "        text-align: right;\n",
       "    }\n",
       "</style>\n",
       "<table border=\"1\" class=\"dataframe\">\n",
       "  <thead>\n",
       "    <tr style=\"text-align: right;\">\n",
       "      <th></th>\n",
       "      <th>Image</th>\n",
       "      <th>Labels</th>\n",
       "    </tr>\n",
       "  </thead>\n",
       "  <tbody>\n",
       "    <tr>\n",
       "      <th>0</th>\n",
       "      <td>C:\\Users\\mehta\\OneDrive\\Desktop\\Face_Emotion_D...</td>\n",
       "      <td>angry</td>\n",
       "    </tr>\n",
       "    <tr>\n",
       "      <th>1</th>\n",
       "      <td>C:\\Users\\mehta\\OneDrive\\Desktop\\Face_Emotion_D...</td>\n",
       "      <td>angry</td>\n",
       "    </tr>\n",
       "    <tr>\n",
       "      <th>2</th>\n",
       "      <td>C:\\Users\\mehta\\OneDrive\\Desktop\\Face_Emotion_D...</td>\n",
       "      <td>angry</td>\n",
       "    </tr>\n",
       "    <tr>\n",
       "      <th>3</th>\n",
       "      <td>C:\\Users\\mehta\\OneDrive\\Desktop\\Face_Emotion_D...</td>\n",
       "      <td>angry</td>\n",
       "    </tr>\n",
       "    <tr>\n",
       "      <th>4</th>\n",
       "      <td>C:\\Users\\mehta\\OneDrive\\Desktop\\Face_Emotion_D...</td>\n",
       "      <td>angry</td>\n",
       "    </tr>\n",
       "  </tbody>\n",
       "</table>\n",
       "</div>"
      ],
      "text/plain": [
       "                                               Image Labels\n",
       "0  C:\\Users\\mehta\\OneDrive\\Desktop\\Face_Emotion_D...  angry\n",
       "1  C:\\Users\\mehta\\OneDrive\\Desktop\\Face_Emotion_D...  angry\n",
       "2  C:\\Users\\mehta\\OneDrive\\Desktop\\Face_Emotion_D...  angry\n",
       "3  C:\\Users\\mehta\\OneDrive\\Desktop\\Face_Emotion_D...  angry\n",
       "4  C:\\Users\\mehta\\OneDrive\\Desktop\\Face_Emotion_D...  angry"
      ]
     },
     "execution_count": 7,
     "metadata": {},
     "output_type": "execute_result"
    }
   ],
   "source": [
    "train.head()"
   ]
  },
  {
   "cell_type": "code",
   "execution_count": 8,
   "id": "0555954a",
   "metadata": {},
   "outputs": [
    {
     "name": "stdout",
     "output_type": "stream",
     "text": [
      "angry completed\n",
      "disgust completed\n",
      "fear completed\n",
      "happy completed\n",
      "neutral completed\n",
      "sad completed\n",
      "surprise completed\n"
     ]
    }
   ],
   "source": [
    "test = pd.DataFrame()\n",
    "test['Image'],test['Labels'] = createDataFrame(TEST_DIR)"
   ]
  },
  {
   "cell_type": "code",
   "execution_count": 9,
   "id": "31c06f0f",
   "metadata": {},
   "outputs": [
    {
     "data": {
      "text/plain": [
       "(7178, 2)"
      ]
     },
     "execution_count": 9,
     "metadata": {},
     "output_type": "execute_result"
    }
   ],
   "source": [
    "test.shape"
   ]
  },
  {
   "cell_type": "code",
   "execution_count": 10,
   "id": "a9ea8510",
   "metadata": {},
   "outputs": [
    {
     "data": {
      "text/html": [
       "<div>\n",
       "<style scoped>\n",
       "    .dataframe tbody tr th:only-of-type {\n",
       "        vertical-align: middle;\n",
       "    }\n",
       "\n",
       "    .dataframe tbody tr th {\n",
       "        vertical-align: top;\n",
       "    }\n",
       "\n",
       "    .dataframe thead th {\n",
       "        text-align: right;\n",
       "    }\n",
       "</style>\n",
       "<table border=\"1\" class=\"dataframe\">\n",
       "  <thead>\n",
       "    <tr style=\"text-align: right;\">\n",
       "      <th></th>\n",
       "      <th>Image</th>\n",
       "      <th>Labels</th>\n",
       "    </tr>\n",
       "  </thead>\n",
       "  <tbody>\n",
       "    <tr>\n",
       "      <th>0</th>\n",
       "      <td>C:\\Users\\mehta\\OneDrive\\Desktop\\Face_Emotion_D...</td>\n",
       "      <td>angry</td>\n",
       "    </tr>\n",
       "    <tr>\n",
       "      <th>1</th>\n",
       "      <td>C:\\Users\\mehta\\OneDrive\\Desktop\\Face_Emotion_D...</td>\n",
       "      <td>angry</td>\n",
       "    </tr>\n",
       "    <tr>\n",
       "      <th>2</th>\n",
       "      <td>C:\\Users\\mehta\\OneDrive\\Desktop\\Face_Emotion_D...</td>\n",
       "      <td>angry</td>\n",
       "    </tr>\n",
       "    <tr>\n",
       "      <th>3</th>\n",
       "      <td>C:\\Users\\mehta\\OneDrive\\Desktop\\Face_Emotion_D...</td>\n",
       "      <td>angry</td>\n",
       "    </tr>\n",
       "    <tr>\n",
       "      <th>4</th>\n",
       "      <td>C:\\Users\\mehta\\OneDrive\\Desktop\\Face_Emotion_D...</td>\n",
       "      <td>angry</td>\n",
       "    </tr>\n",
       "  </tbody>\n",
       "</table>\n",
       "</div>"
      ],
      "text/plain": [
       "                                               Image Labels\n",
       "0  C:\\Users\\mehta\\OneDrive\\Desktop\\Face_Emotion_D...  angry\n",
       "1  C:\\Users\\mehta\\OneDrive\\Desktop\\Face_Emotion_D...  angry\n",
       "2  C:\\Users\\mehta\\OneDrive\\Desktop\\Face_Emotion_D...  angry\n",
       "3  C:\\Users\\mehta\\OneDrive\\Desktop\\Face_Emotion_D...  angry\n",
       "4  C:\\Users\\mehta\\OneDrive\\Desktop\\Face_Emotion_D...  angry"
      ]
     },
     "execution_count": 10,
     "metadata": {},
     "output_type": "execute_result"
    }
   ],
   "source": [
    "test.head()"
   ]
  },
  {
   "cell_type": "code",
   "execution_count": 11,
   "id": "390268ee",
   "metadata": {},
   "outputs": [],
   "source": [
    "from tqdm.notebook import tqdm"
   ]
  },
  {
   "cell_type": "code",
   "execution_count": 12,
   "id": "546d8526",
   "metadata": {},
   "outputs": [],
   "source": [
    "def extractFeatures(images):\n",
    "    features = []\n",
    "    for image in tqdm(images):\n",
    "        img = load_img(image,grayscale =  True )\n",
    "        img = np.array(img)\n",
    "        features.append(img)\n",
    "    features = np.array(features)\n",
    "    features = features.reshape(len(features),48,48,1)\n",
    "    return features\n",
    "    "
   ]
  },
  {
   "cell_type": "code",
   "execution_count": 13,
   "id": "154ec0ba",
   "metadata": {},
   "outputs": [
    {
     "data": {
      "application/vnd.jupyter.widget-view+json": {
       "model_id": "5a1fe3224ae84fdfaa22e96bb27c7dfc",
       "version_major": 2,
       "version_minor": 0
      },
      "text/plain": [
       "  0%|          | 0/28709 [00:00<?, ?it/s]"
      ]
     },
     "metadata": {},
     "output_type": "display_data"
    },
    {
     "name": "stderr",
     "output_type": "stream",
     "text": [
      "C:\\Users\\mehta\\anaconda3\\envs\\py310\\lib\\site-packages\\keras_preprocessing\\image\\utils.py:107: UserWarning: grayscale is deprecated. Please use color_mode = \"grayscale\"\n",
      "  warnings.warn('grayscale is deprecated. Please use '\n"
     ]
    }
   ],
   "source": [
    "train_features = extractFeatures(train['Image'])"
   ]
  },
  {
   "cell_type": "code",
   "execution_count": 14,
   "id": "5bd0d642",
   "metadata": {},
   "outputs": [
    {
     "data": {
      "application/vnd.jupyter.widget-view+json": {
       "model_id": "8875941aba0f4cff9296945394fb673c",
       "version_major": 2,
       "version_minor": 0
      },
      "text/plain": [
       "  0%|          | 0/7178 [00:00<?, ?it/s]"
      ]
     },
     "metadata": {},
     "output_type": "display_data"
    }
   ],
   "source": [
    "test_features = extractFeatures(test['Image'])"
   ]
  },
  {
   "cell_type": "code",
   "execution_count": 15,
   "id": "0772a32b",
   "metadata": {},
   "outputs": [],
   "source": [
    "X_train = train_features/255.0\n",
    "X_test = test_features/255.0"
   ]
  },
  {
   "cell_type": "code",
   "execution_count": 16,
   "id": "7bf99d7b",
   "metadata": {},
   "outputs": [],
   "source": [
    "from sklearn.preprocessing import LabelEncoder"
   ]
  },
  {
   "cell_type": "code",
   "execution_count": 17,
   "id": "7be1922f",
   "metadata": {},
   "outputs": [
    {
     "data": {
      "text/html": [
       "<style>#sk-container-id-1 {\n",
       "  /* Definition of color scheme common for light and dark mode */\n",
       "  --sklearn-color-text: black;\n",
       "  --sklearn-color-line: gray;\n",
       "  /* Definition of color scheme for unfitted estimators */\n",
       "  --sklearn-color-unfitted-level-0: #fff5e6;\n",
       "  --sklearn-color-unfitted-level-1: #f6e4d2;\n",
       "  --sklearn-color-unfitted-level-2: #ffe0b3;\n",
       "  --sklearn-color-unfitted-level-3: chocolate;\n",
       "  /* Definition of color scheme for fitted estimators */\n",
       "  --sklearn-color-fitted-level-0: #f0f8ff;\n",
       "  --sklearn-color-fitted-level-1: #d4ebff;\n",
       "  --sklearn-color-fitted-level-2: #b3dbfd;\n",
       "  --sklearn-color-fitted-level-3: cornflowerblue;\n",
       "\n",
       "  /* Specific color for light theme */\n",
       "  --sklearn-color-text-on-default-background: var(--sg-text-color, var(--theme-code-foreground, var(--jp-content-font-color1, black)));\n",
       "  --sklearn-color-background: var(--sg-background-color, var(--theme-background, var(--jp-layout-color0, white)));\n",
       "  --sklearn-color-border-box: var(--sg-text-color, var(--theme-code-foreground, var(--jp-content-font-color1, black)));\n",
       "  --sklearn-color-icon: #696969;\n",
       "\n",
       "  @media (prefers-color-scheme: dark) {\n",
       "    /* Redefinition of color scheme for dark theme */\n",
       "    --sklearn-color-text-on-default-background: var(--sg-text-color, var(--theme-code-foreground, var(--jp-content-font-color1, white)));\n",
       "    --sklearn-color-background: var(--sg-background-color, var(--theme-background, var(--jp-layout-color0, #111)));\n",
       "    --sklearn-color-border-box: var(--sg-text-color, var(--theme-code-foreground, var(--jp-content-font-color1, white)));\n",
       "    --sklearn-color-icon: #878787;\n",
       "  }\n",
       "}\n",
       "\n",
       "#sk-container-id-1 {\n",
       "  color: var(--sklearn-color-text);\n",
       "}\n",
       "\n",
       "#sk-container-id-1 pre {\n",
       "  padding: 0;\n",
       "}\n",
       "\n",
       "#sk-container-id-1 input.sk-hidden--visually {\n",
       "  border: 0;\n",
       "  clip: rect(1px 1px 1px 1px);\n",
       "  clip: rect(1px, 1px, 1px, 1px);\n",
       "  height: 1px;\n",
       "  margin: -1px;\n",
       "  overflow: hidden;\n",
       "  padding: 0;\n",
       "  position: absolute;\n",
       "  width: 1px;\n",
       "}\n",
       "\n",
       "#sk-container-id-1 div.sk-dashed-wrapped {\n",
       "  border: 1px dashed var(--sklearn-color-line);\n",
       "  margin: 0 0.4em 0.5em 0.4em;\n",
       "  box-sizing: border-box;\n",
       "  padding-bottom: 0.4em;\n",
       "  background-color: var(--sklearn-color-background);\n",
       "}\n",
       "\n",
       "#sk-container-id-1 div.sk-container {\n",
       "  /* jupyter's `normalize.less` sets `[hidden] { display: none; }`\n",
       "     but bootstrap.min.css set `[hidden] { display: none !important; }`\n",
       "     so we also need the `!important` here to be able to override the\n",
       "     default hidden behavior on the sphinx rendered scikit-learn.org.\n",
       "     See: https://github.com/scikit-learn/scikit-learn/issues/21755 */\n",
       "  display: inline-block !important;\n",
       "  position: relative;\n",
       "}\n",
       "\n",
       "#sk-container-id-1 div.sk-text-repr-fallback {\n",
       "  display: none;\n",
       "}\n",
       "\n",
       "div.sk-parallel-item,\n",
       "div.sk-serial,\n",
       "div.sk-item {\n",
       "  /* draw centered vertical line to link estimators */\n",
       "  background-image: linear-gradient(var(--sklearn-color-text-on-default-background), var(--sklearn-color-text-on-default-background));\n",
       "  background-size: 2px 100%;\n",
       "  background-repeat: no-repeat;\n",
       "  background-position: center center;\n",
       "}\n",
       "\n",
       "/* Parallel-specific style estimator block */\n",
       "\n",
       "#sk-container-id-1 div.sk-parallel-item::after {\n",
       "  content: \"\";\n",
       "  width: 100%;\n",
       "  border-bottom: 2px solid var(--sklearn-color-text-on-default-background);\n",
       "  flex-grow: 1;\n",
       "}\n",
       "\n",
       "#sk-container-id-1 div.sk-parallel {\n",
       "  display: flex;\n",
       "  align-items: stretch;\n",
       "  justify-content: center;\n",
       "  background-color: var(--sklearn-color-background);\n",
       "  position: relative;\n",
       "}\n",
       "\n",
       "#sk-container-id-1 div.sk-parallel-item {\n",
       "  display: flex;\n",
       "  flex-direction: column;\n",
       "}\n",
       "\n",
       "#sk-container-id-1 div.sk-parallel-item:first-child::after {\n",
       "  align-self: flex-end;\n",
       "  width: 50%;\n",
       "}\n",
       "\n",
       "#sk-container-id-1 div.sk-parallel-item:last-child::after {\n",
       "  align-self: flex-start;\n",
       "  width: 50%;\n",
       "}\n",
       "\n",
       "#sk-container-id-1 div.sk-parallel-item:only-child::after {\n",
       "  width: 0;\n",
       "}\n",
       "\n",
       "/* Serial-specific style estimator block */\n",
       "\n",
       "#sk-container-id-1 div.sk-serial {\n",
       "  display: flex;\n",
       "  flex-direction: column;\n",
       "  align-items: center;\n",
       "  background-color: var(--sklearn-color-background);\n",
       "  padding-right: 1em;\n",
       "  padding-left: 1em;\n",
       "}\n",
       "\n",
       "\n",
       "/* Toggleable style: style used for estimator/Pipeline/ColumnTransformer box that is\n",
       "clickable and can be expanded/collapsed.\n",
       "- Pipeline and ColumnTransformer use this feature and define the default style\n",
       "- Estimators will overwrite some part of the style using the `sk-estimator` class\n",
       "*/\n",
       "\n",
       "/* Pipeline and ColumnTransformer style (default) */\n",
       "\n",
       "#sk-container-id-1 div.sk-toggleable {\n",
       "  /* Default theme specific background. It is overwritten whether we have a\n",
       "  specific estimator or a Pipeline/ColumnTransformer */\n",
       "  background-color: var(--sklearn-color-background);\n",
       "}\n",
       "\n",
       "/* Toggleable label */\n",
       "#sk-container-id-1 label.sk-toggleable__label {\n",
       "  cursor: pointer;\n",
       "  display: block;\n",
       "  width: 100%;\n",
       "  margin-bottom: 0;\n",
       "  padding: 0.5em;\n",
       "  box-sizing: border-box;\n",
       "  text-align: center;\n",
       "}\n",
       "\n",
       "#sk-container-id-1 label.sk-toggleable__label-arrow:before {\n",
       "  /* Arrow on the left of the label */\n",
       "  content: \"▸\";\n",
       "  float: left;\n",
       "  margin-right: 0.25em;\n",
       "  color: var(--sklearn-color-icon);\n",
       "}\n",
       "\n",
       "#sk-container-id-1 label.sk-toggleable__label-arrow:hover:before {\n",
       "  color: var(--sklearn-color-text);\n",
       "}\n",
       "\n",
       "/* Toggleable content - dropdown */\n",
       "\n",
       "#sk-container-id-1 div.sk-toggleable__content {\n",
       "  max-height: 0;\n",
       "  max-width: 0;\n",
       "  overflow: hidden;\n",
       "  text-align: left;\n",
       "  /* unfitted */\n",
       "  background-color: var(--sklearn-color-unfitted-level-0);\n",
       "}\n",
       "\n",
       "#sk-container-id-1 div.sk-toggleable__content.fitted {\n",
       "  /* fitted */\n",
       "  background-color: var(--sklearn-color-fitted-level-0);\n",
       "}\n",
       "\n",
       "#sk-container-id-1 div.sk-toggleable__content pre {\n",
       "  margin: 0.2em;\n",
       "  border-radius: 0.25em;\n",
       "  color: var(--sklearn-color-text);\n",
       "  /* unfitted */\n",
       "  background-color: var(--sklearn-color-unfitted-level-0);\n",
       "}\n",
       "\n",
       "#sk-container-id-1 div.sk-toggleable__content.fitted pre {\n",
       "  /* unfitted */\n",
       "  background-color: var(--sklearn-color-fitted-level-0);\n",
       "}\n",
       "\n",
       "#sk-container-id-1 input.sk-toggleable__control:checked~div.sk-toggleable__content {\n",
       "  /* Expand drop-down */\n",
       "  max-height: 200px;\n",
       "  max-width: 100%;\n",
       "  overflow: auto;\n",
       "}\n",
       "\n",
       "#sk-container-id-1 input.sk-toggleable__control:checked~label.sk-toggleable__label-arrow:before {\n",
       "  content: \"▾\";\n",
       "}\n",
       "\n",
       "/* Pipeline/ColumnTransformer-specific style */\n",
       "\n",
       "#sk-container-id-1 div.sk-label input.sk-toggleable__control:checked~label.sk-toggleable__label {\n",
       "  color: var(--sklearn-color-text);\n",
       "  background-color: var(--sklearn-color-unfitted-level-2);\n",
       "}\n",
       "\n",
       "#sk-container-id-1 div.sk-label.fitted input.sk-toggleable__control:checked~label.sk-toggleable__label {\n",
       "  background-color: var(--sklearn-color-fitted-level-2);\n",
       "}\n",
       "\n",
       "/* Estimator-specific style */\n",
       "\n",
       "/* Colorize estimator box */\n",
       "#sk-container-id-1 div.sk-estimator input.sk-toggleable__control:checked~label.sk-toggleable__label {\n",
       "  /* unfitted */\n",
       "  background-color: var(--sklearn-color-unfitted-level-2);\n",
       "}\n",
       "\n",
       "#sk-container-id-1 div.sk-estimator.fitted input.sk-toggleable__control:checked~label.sk-toggleable__label {\n",
       "  /* fitted */\n",
       "  background-color: var(--sklearn-color-fitted-level-2);\n",
       "}\n",
       "\n",
       "#sk-container-id-1 div.sk-label label.sk-toggleable__label,\n",
       "#sk-container-id-1 div.sk-label label {\n",
       "  /* The background is the default theme color */\n",
       "  color: var(--sklearn-color-text-on-default-background);\n",
       "}\n",
       "\n",
       "/* On hover, darken the color of the background */\n",
       "#sk-container-id-1 div.sk-label:hover label.sk-toggleable__label {\n",
       "  color: var(--sklearn-color-text);\n",
       "  background-color: var(--sklearn-color-unfitted-level-2);\n",
       "}\n",
       "\n",
       "/* Label box, darken color on hover, fitted */\n",
       "#sk-container-id-1 div.sk-label.fitted:hover label.sk-toggleable__label.fitted {\n",
       "  color: var(--sklearn-color-text);\n",
       "  background-color: var(--sklearn-color-fitted-level-2);\n",
       "}\n",
       "\n",
       "/* Estimator label */\n",
       "\n",
       "#sk-container-id-1 div.sk-label label {\n",
       "  font-family: monospace;\n",
       "  font-weight: bold;\n",
       "  display: inline-block;\n",
       "  line-height: 1.2em;\n",
       "}\n",
       "\n",
       "#sk-container-id-1 div.sk-label-container {\n",
       "  text-align: center;\n",
       "}\n",
       "\n",
       "/* Estimator-specific */\n",
       "#sk-container-id-1 div.sk-estimator {\n",
       "  font-family: monospace;\n",
       "  border: 1px dotted var(--sklearn-color-border-box);\n",
       "  border-radius: 0.25em;\n",
       "  box-sizing: border-box;\n",
       "  margin-bottom: 0.5em;\n",
       "  /* unfitted */\n",
       "  background-color: var(--sklearn-color-unfitted-level-0);\n",
       "}\n",
       "\n",
       "#sk-container-id-1 div.sk-estimator.fitted {\n",
       "  /* fitted */\n",
       "  background-color: var(--sklearn-color-fitted-level-0);\n",
       "}\n",
       "\n",
       "/* on hover */\n",
       "#sk-container-id-1 div.sk-estimator:hover {\n",
       "  /* unfitted */\n",
       "  background-color: var(--sklearn-color-unfitted-level-2);\n",
       "}\n",
       "\n",
       "#sk-container-id-1 div.sk-estimator.fitted:hover {\n",
       "  /* fitted */\n",
       "  background-color: var(--sklearn-color-fitted-level-2);\n",
       "}\n",
       "\n",
       "/* Specification for estimator info (e.g. \"i\" and \"?\") */\n",
       "\n",
       "/* Common style for \"i\" and \"?\" */\n",
       "\n",
       ".sk-estimator-doc-link,\n",
       "a:link.sk-estimator-doc-link,\n",
       "a:visited.sk-estimator-doc-link {\n",
       "  float: right;\n",
       "  font-size: smaller;\n",
       "  line-height: 1em;\n",
       "  font-family: monospace;\n",
       "  background-color: var(--sklearn-color-background);\n",
       "  border-radius: 1em;\n",
       "  height: 1em;\n",
       "  width: 1em;\n",
       "  text-decoration: none !important;\n",
       "  margin-left: 1ex;\n",
       "  /* unfitted */\n",
       "  border: var(--sklearn-color-unfitted-level-1) 1pt solid;\n",
       "  color: var(--sklearn-color-unfitted-level-1);\n",
       "}\n",
       "\n",
       ".sk-estimator-doc-link.fitted,\n",
       "a:link.sk-estimator-doc-link.fitted,\n",
       "a:visited.sk-estimator-doc-link.fitted {\n",
       "  /* fitted */\n",
       "  border: var(--sklearn-color-fitted-level-1) 1pt solid;\n",
       "  color: var(--sklearn-color-fitted-level-1);\n",
       "}\n",
       "\n",
       "/* On hover */\n",
       "div.sk-estimator:hover .sk-estimator-doc-link:hover,\n",
       ".sk-estimator-doc-link:hover,\n",
       "div.sk-label-container:hover .sk-estimator-doc-link:hover,\n",
       ".sk-estimator-doc-link:hover {\n",
       "  /* unfitted */\n",
       "  background-color: var(--sklearn-color-unfitted-level-3);\n",
       "  color: var(--sklearn-color-background);\n",
       "  text-decoration: none;\n",
       "}\n",
       "\n",
       "div.sk-estimator.fitted:hover .sk-estimator-doc-link.fitted:hover,\n",
       ".sk-estimator-doc-link.fitted:hover,\n",
       "div.sk-label-container:hover .sk-estimator-doc-link.fitted:hover,\n",
       ".sk-estimator-doc-link.fitted:hover {\n",
       "  /* fitted */\n",
       "  background-color: var(--sklearn-color-fitted-level-3);\n",
       "  color: var(--sklearn-color-background);\n",
       "  text-decoration: none;\n",
       "}\n",
       "\n",
       "/* Span, style for the box shown on hovering the info icon */\n",
       ".sk-estimator-doc-link span {\n",
       "  display: none;\n",
       "  z-index: 9999;\n",
       "  position: relative;\n",
       "  font-weight: normal;\n",
       "  right: .2ex;\n",
       "  padding: .5ex;\n",
       "  margin: .5ex;\n",
       "  width: min-content;\n",
       "  min-width: 20ex;\n",
       "  max-width: 50ex;\n",
       "  color: var(--sklearn-color-text);\n",
       "  box-shadow: 2pt 2pt 4pt #999;\n",
       "  /* unfitted */\n",
       "  background: var(--sklearn-color-unfitted-level-0);\n",
       "  border: .5pt solid var(--sklearn-color-unfitted-level-3);\n",
       "}\n",
       "\n",
       ".sk-estimator-doc-link.fitted span {\n",
       "  /* fitted */\n",
       "  background: var(--sklearn-color-fitted-level-0);\n",
       "  border: var(--sklearn-color-fitted-level-3);\n",
       "}\n",
       "\n",
       ".sk-estimator-doc-link:hover span {\n",
       "  display: block;\n",
       "}\n",
       "\n",
       "/* \"?\"-specific style due to the `<a>` HTML tag */\n",
       "\n",
       "#sk-container-id-1 a.estimator_doc_link {\n",
       "  float: right;\n",
       "  font-size: 1rem;\n",
       "  line-height: 1em;\n",
       "  font-family: monospace;\n",
       "  background-color: var(--sklearn-color-background);\n",
       "  border-radius: 1rem;\n",
       "  height: 1rem;\n",
       "  width: 1rem;\n",
       "  text-decoration: none;\n",
       "  /* unfitted */\n",
       "  color: var(--sklearn-color-unfitted-level-1);\n",
       "  border: var(--sklearn-color-unfitted-level-1) 1pt solid;\n",
       "}\n",
       "\n",
       "#sk-container-id-1 a.estimator_doc_link.fitted {\n",
       "  /* fitted */\n",
       "  border: var(--sklearn-color-fitted-level-1) 1pt solid;\n",
       "  color: var(--sklearn-color-fitted-level-1);\n",
       "}\n",
       "\n",
       "/* On hover */\n",
       "#sk-container-id-1 a.estimator_doc_link:hover {\n",
       "  /* unfitted */\n",
       "  background-color: var(--sklearn-color-unfitted-level-3);\n",
       "  color: var(--sklearn-color-background);\n",
       "  text-decoration: none;\n",
       "}\n",
       "\n",
       "#sk-container-id-1 a.estimator_doc_link.fitted:hover {\n",
       "  /* fitted */\n",
       "  background-color: var(--sklearn-color-fitted-level-3);\n",
       "}\n",
       "</style><div id=\"sk-container-id-1\" class=\"sk-top-container\"><div class=\"sk-text-repr-fallback\"><pre>LabelEncoder()</pre><b>In a Jupyter environment, please rerun this cell to show the HTML representation or trust the notebook. <br />On GitHub, the HTML representation is unable to render, please try loading this page with nbviewer.org.</b></div><div class=\"sk-container\" hidden><div class=\"sk-item\"><div class=\"sk-estimator fitted sk-toggleable\"><input class=\"sk-toggleable__control sk-hidden--visually\" id=\"sk-estimator-id-1\" type=\"checkbox\" checked><label for=\"sk-estimator-id-1\" class=\"sk-toggleable__label fitted sk-toggleable__label-arrow fitted\">&nbsp;&nbsp;LabelEncoder<a class=\"sk-estimator-doc-link fitted\" rel=\"noreferrer\" target=\"_blank\" href=\"https://scikit-learn.org/1.5/modules/generated/sklearn.preprocessing.LabelEncoder.html\">?<span>Documentation for LabelEncoder</span></a><span class=\"sk-estimator-doc-link fitted\">i<span>Fitted</span></span></label><div class=\"sk-toggleable__content fitted\"><pre>LabelEncoder()</pre></div> </div></div></div></div>"
      ],
      "text/plain": [
       "LabelEncoder()"
      ]
     },
     "execution_count": 17,
     "metadata": {},
     "output_type": "execute_result"
    }
   ],
   "source": [
    "le = LabelEncoder()\n",
    "le.fit(train['Labels'])"
   ]
  },
  {
   "cell_type": "code",
   "execution_count": 18,
   "id": "3c523d27",
   "metadata": {},
   "outputs": [],
   "source": [
    "y_train = le.transform(train['Labels'])\n",
    "y_test = le.transform(test['Labels'])"
   ]
  },
  {
   "cell_type": "code",
   "execution_count": 19,
   "id": "9a2d3926",
   "metadata": {},
   "outputs": [
    {
     "data": {
      "text/plain": [
       "(28709, 48, 48, 1)"
      ]
     },
     "execution_count": 19,
     "metadata": {},
     "output_type": "execute_result"
    }
   ],
   "source": [
    "X_train.shape"
   ]
  },
  {
   "cell_type": "code",
   "execution_count": 20,
   "id": "5778f47e",
   "metadata": {},
   "outputs": [
    {
     "data": {
      "text/plain": [
       "(28709,)"
      ]
     },
     "execution_count": 20,
     "metadata": {},
     "output_type": "execute_result"
    }
   ],
   "source": [
    "y_train.shape"
   ]
  },
  {
   "cell_type": "code",
   "execution_count": 21,
   "id": "6327d276",
   "metadata": {},
   "outputs": [],
   "source": [
    "y_train = to_categorical(y_train,num_classes=7)\n",
    "y_test = to_categorical(y_test,num_classes=7)"
   ]
  },
  {
   "cell_type": "code",
   "execution_count": 22,
   "id": "af3b6f3f",
   "metadata": {},
   "outputs": [
    {
     "data": {
      "text/plain": [
       "(28709, 7)"
      ]
     },
     "execution_count": 22,
     "metadata": {},
     "output_type": "execute_result"
    }
   ],
   "source": [
    "y_train.shape"
   ]
  },
  {
   "cell_type": "markdown",
   "id": "ff77045f-24e4-49cb-a44c-7e180797f998",
   "metadata": {},
   "source": [
    "### Defining the CNN architecture"
   ]
  },
  {
   "cell_type": "code",
   "execution_count": 27,
   "id": "e8d4cf70",
   "metadata": {},
   "outputs": [
    {
     "name": "stdout",
     "output_type": "stream",
     "text": [
      "Model: \"sequential\"\n",
      "_________________________________________________________________\n",
      " Layer (type)                Output Shape              Param #   \n",
      "=================================================================\n",
      " conv2d (Conv2D)             (None, 46, 46, 64)        640       \n",
      "                                                                 \n",
      " max_pooling2d (MaxPooling2D  (None, 23, 23, 64)       0         \n",
      " )                                                               \n",
      "                                                                 \n",
      " dropout (Dropout)           (None, 23, 23, 64)        0         \n",
      "                                                                 \n",
      " conv2d_1 (Conv2D)           (None, 21, 21, 128)       73856     \n",
      "                                                                 \n",
      " max_pooling2d_1 (MaxPooling  (None, 10, 10, 128)      0         \n",
      " 2D)                                                             \n",
      "                                                                 \n",
      " dropout_1 (Dropout)         (None, 10, 10, 128)       0         \n",
      "                                                                 \n",
      " conv2d_2 (Conv2D)           (None, 8, 8, 256)         295168    \n",
      "                                                                 \n",
      " max_pooling2d_2 (MaxPooling  (None, 4, 4, 256)        0         \n",
      " 2D)                                                             \n",
      "                                                                 \n",
      " dropout_2 (Dropout)         (None, 4, 4, 256)         0         \n",
      "                                                                 \n",
      " flatten (Flatten)           (None, 4096)              0         \n",
      "                                                                 \n",
      " dense (Dense)               (None, 256)               1048832   \n",
      "                                                                 \n",
      " dropout_3 (Dropout)         (None, 256)               0         \n",
      "                                                                 \n",
      " dense_1 (Dense)             (None, 7)                 1799      \n",
      "                                                                 \n",
      "=================================================================\n",
      "Total params: 1,420,295\n",
      "Trainable params: 1,420,295\n",
      "Non-trainable params: 0\n",
      "_________________________________________________________________\n"
     ]
    }
   ],
   "source": [
    "from tensorflow.keras.models import Sequential\n",
    "from tensorflow.keras.layers import Conv2D, MaxPooling2D, Flatten, Dense, Dropout\n",
    "from tensorflow.keras.optimizers import Adam\n",
    "\n",
    "# Model definition\n",
    "model = Sequential()\n",
    "\n",
    "# 1st Convolutional layer\n",
    "model.add(Conv2D(64, kernel_size=(3, 3), activation='relu', input_shape=(48, 48, 1)))\n",
    "model.add(MaxPooling2D(pool_size=(2, 2)))\n",
    "model.add(Dropout(0.3))\n",
    "\n",
    "# 2nd Convolutional layer\n",
    "model.add(Conv2D(128, kernel_size=(3, 3), activation='relu'))\n",
    "model.add(MaxPooling2D(pool_size=(2, 2)))\n",
    "model.add(Dropout(0.3))\n",
    "\n",
    "# 3rd Convolutional layer\n",
    "model.add(Conv2D(256, kernel_size=(3, 3), activation='relu'))\n",
    "model.add(MaxPooling2D(pool_size=(2, 2)))\n",
    "model.add(Dropout(0.3))\n",
    "\n",
    "# Flattening and fully connected layers\n",
    "model.add(Flatten())\n",
    "model.add(Dense(256, activation='relu'))\n",
    "model.add(Dropout(0.3))\n",
    "\n",
    "# Output layer for 7 classes\n",
    "model.add(Dense(7, activation='softmax'))\n",
    "\n",
    "# Compile the model\n",
    "optimizer = Adam(learning_rate=0.0001)\n",
    "model.compile(optimizer=optimizer, loss='categorical_crossentropy', metrics=['accuracy'])\n",
    "\n",
    "# Summary of the model\n",
    "model.summary()\n"
   ]
  },
  {
   "cell_type": "code",
   "execution_count": 28,
   "id": "4f476f17",
   "metadata": {},
   "outputs": [
    {
     "data": {
      "text/plain": [
       "(28709, 48, 48, 1)"
      ]
     },
     "execution_count": 28,
     "metadata": {},
     "output_type": "execute_result"
    }
   ],
   "source": [
    "X_train.shape"
   ]
  },
  {
   "cell_type": "markdown",
   "id": "bacec5cc-7ef6-4347-8608-f8b603ed69be",
   "metadata": {},
   "source": [
    "### Training the model"
   ]
  },
  {
   "cell_type": "code",
   "execution_count": 33,
   "id": "c059bb3e",
   "metadata": {},
   "outputs": [
    {
     "name": "stdout",
     "output_type": "stream",
     "text": [
      "Epoch 1/100\n",
      "449/449 [==============================] - 11s 25ms/step - loss: 1.2056 - accuracy: 0.5456 - val_loss: 1.1155 - val_accuracy: 0.5800\n",
      "Epoch 2/100\n",
      "449/449 [==============================] - 11s 25ms/step - loss: 1.1981 - accuracy: 0.5496 - val_loss: 1.1038 - val_accuracy: 0.5844\n",
      "Epoch 3/100\n",
      "449/449 [==============================] - 11s 26ms/step - loss: 1.1928 - accuracy: 0.5477 - val_loss: 1.0922 - val_accuracy: 0.5876\n",
      "Epoch 4/100\n",
      "449/449 [==============================] - 13s 29ms/step - loss: 1.1838 - accuracy: 0.5530 - val_loss: 1.0908 - val_accuracy: 0.5876\n",
      "Epoch 5/100\n",
      "449/449 [==============================] - 12s 26ms/step - loss: 1.1849 - accuracy: 0.5533 - val_loss: 1.0878 - val_accuracy: 0.5900\n",
      "Epoch 6/100\n",
      "449/449 [==============================] - 11s 25ms/step - loss: 1.1809 - accuracy: 0.5542 - val_loss: 1.0921 - val_accuracy: 0.5913\n",
      "Epoch 7/100\n",
      "449/449 [==============================] - 11s 25ms/step - loss: 1.1780 - accuracy: 0.5521 - val_loss: 1.0848 - val_accuracy: 0.5935\n",
      "Epoch 8/100\n",
      "449/449 [==============================] - 11s 25ms/step - loss: 1.1713 - accuracy: 0.5544 - val_loss: 1.0839 - val_accuracy: 0.5899\n",
      "Epoch 9/100\n",
      "449/449 [==============================] - 11s 25ms/step - loss: 1.1658 - accuracy: 0.5601 - val_loss: 1.0720 - val_accuracy: 0.5945\n",
      "Epoch 10/100\n",
      "449/449 [==============================] - 11s 25ms/step - loss: 1.1636 - accuracy: 0.5597 - val_loss: 1.0693 - val_accuracy: 0.5952\n",
      "Epoch 11/100\n",
      "449/449 [==============================] - 11s 25ms/step - loss: 1.1582 - accuracy: 0.5653 - val_loss: 1.0756 - val_accuracy: 0.5953\n",
      "Epoch 12/100\n",
      "449/449 [==============================] - 11s 25ms/step - loss: 1.1554 - accuracy: 0.5655 - val_loss: 1.0813 - val_accuracy: 0.5956\n",
      "Epoch 13/100\n",
      "449/449 [==============================] - 11s 25ms/step - loss: 1.1478 - accuracy: 0.5669 - val_loss: 1.0689 - val_accuracy: 0.5942\n",
      "Epoch 14/100\n",
      "449/449 [==============================] - 11s 25ms/step - loss: 1.1513 - accuracy: 0.5645 - val_loss: 1.0642 - val_accuracy: 0.5961\n",
      "Epoch 15/100\n",
      "449/449 [==============================] - 11s 25ms/step - loss: 1.1427 - accuracy: 0.5665 - val_loss: 1.0636 - val_accuracy: 0.6028\n",
      "Epoch 16/100\n",
      "449/449 [==============================] - 11s 25ms/step - loss: 1.1427 - accuracy: 0.5678 - val_loss: 1.0559 - val_accuracy: 0.6030\n",
      "Epoch 17/100\n",
      "449/449 [==============================] - 11s 25ms/step - loss: 1.1361 - accuracy: 0.5741 - val_loss: 1.0607 - val_accuracy: 0.6067\n",
      "Epoch 18/100\n",
      "449/449 [==============================] - 11s 25ms/step - loss: 1.1346 - accuracy: 0.5731 - val_loss: 1.0523 - val_accuracy: 0.6027\n",
      "Epoch 19/100\n",
      "449/449 [==============================] - 11s 26ms/step - loss: 1.1280 - accuracy: 0.5733 - val_loss: 1.0419 - val_accuracy: 0.6126\n",
      "Epoch 20/100\n",
      "449/449 [==============================] - 11s 25ms/step - loss: 1.1263 - accuracy: 0.5744 - val_loss: 1.0549 - val_accuracy: 0.6096\n",
      "Epoch 21/100\n",
      "449/449 [==============================] - 11s 25ms/step - loss: 1.1220 - accuracy: 0.5768 - val_loss: 1.0416 - val_accuracy: 0.6085\n",
      "Epoch 22/100\n",
      "449/449 [==============================] - 12s 26ms/step - loss: 1.1225 - accuracy: 0.5780 - val_loss: 1.0381 - val_accuracy: 0.6145\n",
      "Epoch 23/100\n",
      "449/449 [==============================] - 11s 25ms/step - loss: 1.1170 - accuracy: 0.5823 - val_loss: 1.0412 - val_accuracy: 0.6109\n",
      "Epoch 24/100\n",
      "449/449 [==============================] - 11s 25ms/step - loss: 1.1128 - accuracy: 0.5804 - val_loss: 1.0405 - val_accuracy: 0.6117\n",
      "Epoch 25/100\n",
      "449/449 [==============================] - 12s 26ms/step - loss: 1.1162 - accuracy: 0.5799 - val_loss: 1.0377 - val_accuracy: 0.6112\n",
      "Epoch 26/100\n",
      "449/449 [==============================] - 11s 25ms/step - loss: 1.1104 - accuracy: 0.5815 - val_loss: 1.0459 - val_accuracy: 0.6110\n",
      "Epoch 27/100\n",
      "449/449 [==============================] - 11s 25ms/step - loss: 1.1078 - accuracy: 0.5835 - val_loss: 1.0327 - val_accuracy: 0.6158\n",
      "Epoch 28/100\n",
      "449/449 [==============================] - 11s 25ms/step - loss: 1.1025 - accuracy: 0.5832 - val_loss: 1.0402 - val_accuracy: 0.6133\n",
      "Epoch 29/100\n",
      "449/449 [==============================] - 11s 25ms/step - loss: 1.1007 - accuracy: 0.5837 - val_loss: 1.0308 - val_accuracy: 0.6148\n",
      "Epoch 30/100\n",
      "449/449 [==============================] - 11s 25ms/step - loss: 1.0932 - accuracy: 0.5877 - val_loss: 1.0401 - val_accuracy: 0.6165\n",
      "Epoch 31/100\n",
      "449/449 [==============================] - 12s 26ms/step - loss: 1.0943 - accuracy: 0.5875 - val_loss: 1.0307 - val_accuracy: 0.6172\n",
      "Epoch 32/100\n",
      "449/449 [==============================] - 11s 26ms/step - loss: 1.0946 - accuracy: 0.5859 - val_loss: 1.0212 - val_accuracy: 0.6218\n",
      "Epoch 33/100\n",
      "449/449 [==============================] - 11s 25ms/step - loss: 1.0905 - accuracy: 0.5902 - val_loss: 1.0349 - val_accuracy: 0.6147\n",
      "Epoch 34/100\n",
      "449/449 [==============================] - 12s 26ms/step - loss: 1.0894 - accuracy: 0.5922 - val_loss: 1.0188 - val_accuracy: 0.6190\n",
      "Epoch 35/100\n",
      "449/449 [==============================] - 12s 26ms/step - loss: 1.0871 - accuracy: 0.5928 - val_loss: 1.0220 - val_accuracy: 0.6183\n",
      "Epoch 36/100\n",
      "449/449 [==============================] - 11s 25ms/step - loss: 1.0775 - accuracy: 0.5941 - val_loss: 1.0223 - val_accuracy: 0.6177\n",
      "Epoch 37/100\n",
      "449/449 [==============================] - 11s 25ms/step - loss: 1.0740 - accuracy: 0.5956 - val_loss: 1.0230 - val_accuracy: 0.6156\n",
      "Epoch 38/100\n",
      "449/449 [==============================] - 11s 25ms/step - loss: 1.0754 - accuracy: 0.5989 - val_loss: 1.0161 - val_accuracy: 0.6229\n",
      "Epoch 39/100\n",
      "449/449 [==============================] - 11s 25ms/step - loss: 1.0700 - accuracy: 0.6004 - val_loss: 1.0208 - val_accuracy: 0.6167\n",
      "Epoch 40/100\n",
      "449/449 [==============================] - 11s 25ms/step - loss: 1.0702 - accuracy: 0.5980 - val_loss: 1.0127 - val_accuracy: 0.6223\n",
      "Epoch 41/100\n",
      "449/449 [==============================] - 12s 26ms/step - loss: 1.0764 - accuracy: 0.5917 - val_loss: 1.0112 - val_accuracy: 0.6218\n",
      "Epoch 42/100\n",
      "449/449 [==============================] - 11s 25ms/step - loss: 1.0755 - accuracy: 0.5985 - val_loss: 1.0073 - val_accuracy: 0.6255\n",
      "Epoch 43/100\n",
      "449/449 [==============================] - 11s 25ms/step - loss: 1.0633 - accuracy: 0.5990 - val_loss: 1.0067 - val_accuracy: 0.6233\n",
      "Epoch 44/100\n",
      "449/449 [==============================] - 11s 25ms/step - loss: 1.0653 - accuracy: 0.5997 - val_loss: 1.0080 - val_accuracy: 0.6237\n",
      "Epoch 45/100\n",
      "449/449 [==============================] - 11s 25ms/step - loss: 1.0586 - accuracy: 0.6022 - val_loss: 1.0080 - val_accuracy: 0.6273\n",
      "Epoch 46/100\n",
      "449/449 [==============================] - 11s 25ms/step - loss: 1.0539 - accuracy: 0.6047 - val_loss: 1.0063 - val_accuracy: 0.6276\n",
      "Epoch 47/100\n",
      "449/449 [==============================] - 12s 26ms/step - loss: 1.0588 - accuracy: 0.6028 - val_loss: 0.9993 - val_accuracy: 0.6293\n",
      "Epoch 48/100\n",
      "449/449 [==============================] - 11s 25ms/step - loss: 1.0556 - accuracy: 0.6048 - val_loss: 1.0028 - val_accuracy: 0.6280\n",
      "Epoch 49/100\n",
      "449/449 [==============================] - 11s 25ms/step - loss: 1.0499 - accuracy: 0.6079 - val_loss: 1.0108 - val_accuracy: 0.6293\n",
      "Epoch 50/100\n",
      "449/449 [==============================] - 12s 26ms/step - loss: 1.0522 - accuracy: 0.6069 - val_loss: 1.0082 - val_accuracy: 0.6315\n",
      "Epoch 51/100\n",
      "449/449 [==============================] - 12s 27ms/step - loss: 1.0471 - accuracy: 0.6051 - val_loss: 0.9999 - val_accuracy: 0.6307\n",
      "Epoch 52/100\n",
      "449/449 [==============================] - 13s 28ms/step - loss: 1.0407 - accuracy: 0.6091 - val_loss: 0.9927 - val_accuracy: 0.6321\n",
      "Epoch 53/100\n",
      "449/449 [==============================] - 12s 26ms/step - loss: 1.0427 - accuracy: 0.6070 - val_loss: 0.9996 - val_accuracy: 0.6301\n",
      "Epoch 54/100\n",
      "449/449 [==============================] - 13s 28ms/step - loss: 1.0407 - accuracy: 0.6102 - val_loss: 0.9914 - val_accuracy: 0.6339\n",
      "Epoch 55/100\n",
      "449/449 [==============================] - 13s 28ms/step - loss: 1.0340 - accuracy: 0.6126 - val_loss: 0.9883 - val_accuracy: 0.6347\n",
      "Epoch 56/100\n",
      "449/449 [==============================] - 12s 28ms/step - loss: 1.0441 - accuracy: 0.6087 - val_loss: 0.9888 - val_accuracy: 0.6357\n",
      "Epoch 57/100\n",
      "449/449 [==============================] - 12s 26ms/step - loss: 1.0345 - accuracy: 0.6122 - val_loss: 0.9969 - val_accuracy: 0.6337\n",
      "Epoch 58/100\n",
      "449/449 [==============================] - 12s 26ms/step - loss: 1.0330 - accuracy: 0.6108 - val_loss: 0.9851 - val_accuracy: 0.6382\n",
      "Epoch 59/100\n",
      "449/449 [==============================] - 11s 25ms/step - loss: 1.0340 - accuracy: 0.6151 - val_loss: 0.9906 - val_accuracy: 0.6356\n",
      "Epoch 60/100\n",
      "449/449 [==============================] - 12s 26ms/step - loss: 1.0329 - accuracy: 0.6128 - val_loss: 0.9832 - val_accuracy: 0.6381\n",
      "Epoch 61/100\n",
      "449/449 [==============================] - 12s 27ms/step - loss: 1.0307 - accuracy: 0.6085 - val_loss: 0.9904 - val_accuracy: 0.6340\n",
      "Epoch 62/100\n",
      "449/449 [==============================] - 11s 25ms/step - loss: 1.0298 - accuracy: 0.6104 - val_loss: 0.9807 - val_accuracy: 0.6351\n",
      "Epoch 63/100\n",
      "449/449 [==============================] - 12s 26ms/step - loss: 1.0281 - accuracy: 0.6130 - val_loss: 0.9850 - val_accuracy: 0.6376\n",
      "Epoch 64/100\n",
      "449/449 [==============================] - 11s 25ms/step - loss: 1.0225 - accuracy: 0.6151 - val_loss: 0.9877 - val_accuracy: 0.6368\n",
      "Epoch 65/100\n",
      "449/449 [==============================] - 11s 25ms/step - loss: 1.0158 - accuracy: 0.6209 - val_loss: 1.0012 - val_accuracy: 0.6321\n",
      "Epoch 66/100\n",
      "449/449 [==============================] - 11s 25ms/step - loss: 1.0138 - accuracy: 0.6174 - val_loss: 0.9779 - val_accuracy: 0.6388\n",
      "Epoch 67/100\n",
      "449/449 [==============================] - 11s 25ms/step - loss: 1.0134 - accuracy: 0.6188 - val_loss: 0.9741 - val_accuracy: 0.6383\n",
      "Epoch 68/100\n",
      "449/449 [==============================] - 11s 25ms/step - loss: 1.0182 - accuracy: 0.6189 - val_loss: 0.9845 - val_accuracy: 0.6371\n",
      "Epoch 69/100\n",
      "449/449 [==============================] - 12s 26ms/step - loss: 1.0103 - accuracy: 0.6188 - val_loss: 0.9785 - val_accuracy: 0.6410\n",
      "Epoch 70/100\n",
      "449/449 [==============================] - 12s 26ms/step - loss: 1.0135 - accuracy: 0.6194 - val_loss: 0.9745 - val_accuracy: 0.6395\n",
      "Epoch 71/100\n",
      "449/449 [==============================] - 12s 26ms/step - loss: 1.0075 - accuracy: 0.6272 - val_loss: 0.9734 - val_accuracy: 0.6436\n",
      "Epoch 72/100\n",
      "449/449 [==============================] - 11s 26ms/step - loss: 1.0094 - accuracy: 0.6202 - val_loss: 0.9842 - val_accuracy: 0.6369\n",
      "Epoch 73/100\n",
      "449/449 [==============================] - 11s 25ms/step - loss: 1.0067 - accuracy: 0.6226 - val_loss: 0.9783 - val_accuracy: 0.6393\n",
      "Epoch 74/100\n",
      "449/449 [==============================] - 12s 26ms/step - loss: 1.0064 - accuracy: 0.6248 - val_loss: 0.9858 - val_accuracy: 0.6346\n",
      "Epoch 75/100\n",
      "449/449 [==============================] - 13s 28ms/step - loss: 1.0010 - accuracy: 0.6259 - val_loss: 0.9718 - val_accuracy: 0.6406\n",
      "Epoch 76/100\n",
      "449/449 [==============================] - 12s 27ms/step - loss: 1.0048 - accuracy: 0.6252 - val_loss: 0.9759 - val_accuracy: 0.6413\n",
      "Epoch 77/100\n",
      "449/449 [==============================] - 12s 27ms/step - loss: 1.0037 - accuracy: 0.6259 - val_loss: 0.9792 - val_accuracy: 0.6403\n",
      "Epoch 78/100\n",
      "449/449 [==============================] - 12s 26ms/step - loss: 0.9996 - accuracy: 0.6235 - val_loss: 0.9775 - val_accuracy: 0.6424\n",
      "Epoch 79/100\n",
      "449/449 [==============================] - 12s 26ms/step - loss: 0.9962 - accuracy: 0.6281 - val_loss: 0.9779 - val_accuracy: 0.6435\n",
      "Epoch 80/100\n",
      "449/449 [==============================] - 11s 25ms/step - loss: 0.9971 - accuracy: 0.6249 - val_loss: 0.9745 - val_accuracy: 0.6414\n",
      "Epoch 81/100\n",
      "449/449 [==============================] - 12s 26ms/step - loss: 0.9927 - accuracy: 0.6291 - val_loss: 0.9761 - val_accuracy: 0.6392\n",
      "Epoch 82/100\n",
      "449/449 [==============================] - 12s 27ms/step - loss: 0.9912 - accuracy: 0.6283 - val_loss: 0.9724 - val_accuracy: 0.6461\n",
      "Epoch 83/100\n",
      "449/449 [==============================] - 11s 25ms/step - loss: 0.9895 - accuracy: 0.6302 - val_loss: 0.9694 - val_accuracy: 0.6432\n",
      "Epoch 84/100\n",
      "449/449 [==============================] - 12s 26ms/step - loss: 0.9907 - accuracy: 0.6313 - val_loss: 0.9696 - val_accuracy: 0.6425\n",
      "Epoch 85/100\n",
      "449/449 [==============================] - 12s 26ms/step - loss: 0.9888 - accuracy: 0.6282 - val_loss: 0.9646 - val_accuracy: 0.6460\n",
      "Epoch 86/100\n",
      "449/449 [==============================] - 12s 27ms/step - loss: 0.9821 - accuracy: 0.6305 - val_loss: 0.9745 - val_accuracy: 0.6464\n",
      "Epoch 87/100\n",
      "449/449 [==============================] - 12s 27ms/step - loss: 0.9814 - accuracy: 0.6306 - val_loss: 0.9559 - val_accuracy: 0.6500\n",
      "Epoch 88/100\n",
      "449/449 [==============================] - 12s 27ms/step - loss: 0.9802 - accuracy: 0.6318 - val_loss: 0.9622 - val_accuracy: 0.6441\n",
      "Epoch 89/100\n",
      "449/449 [==============================] - 12s 26ms/step - loss: 0.9810 - accuracy: 0.6307 - val_loss: 0.9680 - val_accuracy: 0.6468\n",
      "Epoch 90/100\n",
      "449/449 [==============================] - 12s 26ms/step - loss: 0.9805 - accuracy: 0.6346 - val_loss: 0.9605 - val_accuracy: 0.6468\n",
      "Epoch 91/100\n",
      "449/449 [==============================] - 12s 27ms/step - loss: 0.9834 - accuracy: 0.6325 - val_loss: 0.9549 - val_accuracy: 0.6466\n",
      "Epoch 92/100\n",
      "449/449 [==============================] - 12s 26ms/step - loss: 0.9753 - accuracy: 0.6351 - val_loss: 0.9633 - val_accuracy: 0.6471\n",
      "Epoch 93/100\n",
      "449/449 [==============================] - 12s 26ms/step - loss: 0.9735 - accuracy: 0.6326 - val_loss: 0.9552 - val_accuracy: 0.6486\n",
      "Epoch 94/100\n",
      "449/449 [==============================] - 11s 25ms/step - loss: 0.9782 - accuracy: 0.6327 - val_loss: 0.9593 - val_accuracy: 0.6480\n",
      "Epoch 95/100\n",
      "449/449 [==============================] - 11s 26ms/step - loss: 0.9738 - accuracy: 0.6338 - val_loss: 0.9530 - val_accuracy: 0.6493\n",
      "Epoch 96/100\n",
      "449/449 [==============================] - 11s 25ms/step - loss: 0.9673 - accuracy: 0.6350 - val_loss: 0.9564 - val_accuracy: 0.6500\n",
      "Epoch 97/100\n",
      "449/449 [==============================] - 11s 25ms/step - loss: 0.9658 - accuracy: 0.6356 - val_loss: 0.9555 - val_accuracy: 0.6450\n",
      "Epoch 98/100\n",
      "449/449 [==============================] - 11s 25ms/step - loss: 0.9651 - accuracy: 0.6369 - val_loss: 0.9645 - val_accuracy: 0.6428\n",
      "Epoch 99/100\n",
      "449/449 [==============================] - 11s 25ms/step - loss: 0.9633 - accuracy: 0.6386 - val_loss: 0.9630 - val_accuracy: 0.6482\n",
      "Epoch 100/100\n",
      "449/449 [==============================] - 11s 25ms/step - loss: 0.9644 - accuracy: 0.6401 - val_loss: 0.9528 - val_accuracy: 0.6523\n"
     ]
    }
   ],
   "source": [
    "#model.fit(X_train,y_train,batch_size=128,epochs=10,validation_data=(X_test,y_test))\n",
    "from tensorflow.keras.preprocessing.image import ImageDataGenerator\n",
    "\n",
    "# Data Augmentation\n",
    "datagen = ImageDataGenerator(\n",
    "    rotation_range=10,\n",
    "    width_shift_range=0.1,\n",
    "    height_shift_range=0.1,\n",
    "    shear_range=0.1,\n",
    "    zoom_range=0.1,\n",
    "    horizontal_flip=True\n",
    ")\n",
    "\n",
    "# Fit model with the generator\n",
    "history = model.fit(\n",
    "    datagen.flow(X_train, y_train, batch_size=64),\n",
    "    epochs=100,\n",
    "    validation_data=(X_test, y_test)\n",
    ")\n"
   ]
  },
  {
   "cell_type": "code",
   "execution_count": 34,
   "id": "ca69b37b",
   "metadata": {},
   "outputs": [
    {
     "name": "stdout",
     "output_type": "stream",
     "text": [
      "225/225 [==============================] - 1s 4ms/step - loss: 0.9528 - accuracy: 0.6523\n"
     ]
    },
    {
     "data": {
      "text/plain": [
       "[0.9528028964996338, 0.6522708535194397]"
      ]
     },
     "execution_count": 34,
     "metadata": {},
     "output_type": "execute_result"
    }
   ],
   "source": [
    "model.evaluate(X_test,y_test)"
   ]
  },
  {
   "cell_type": "markdown",
   "id": "5895b9dd-8653-4b28-af45-9ff6993ad3dd",
   "metadata": {},
   "source": [
    "###  An accuracy of 65.23% is obtained when we train on the given parameters for 100 epochs. We use this accuracy as our final model's accuracy"
   ]
  },
  {
   "cell_type": "markdown",
   "id": "09e24e4a-5262-4313-9e06-83d11df38b50",
   "metadata": {},
   "source": [
    " #### Considerations on improving the accuracy of the model will be given in future projects. As in this project, we aim to develop a working prototype only"
   ]
  },
  {
   "cell_type": "code",
   "execution_count": 26,
   "id": "c7056af9-1b38-4246-8f06-b2e4a1f6f55f",
   "metadata": {},
   "outputs": [],
   "source": [
    "import matplotlib.pyplot as plt\n",
    "%matplotlib inline\n",
    "from tensorflow.keras.models import load_model"
   ]
  },
  {
   "cell_type": "code",
   "execution_count": 35,
   "id": "e73e4b30",
   "metadata": {},
   "outputs": [],
   "source": [
    "model.save(r'C:\\Users\\mehta\\OneDrive\\Desktop\\Face_Emotion_Detection\\my_model.h5')"
   ]
  },
  {
   "cell_type": "code",
   "execution_count": 27,
   "id": "b9b8f3ea-2f93-4d6b-9c54-87c7180b9385",
   "metadata": {},
   "outputs": [],
   "source": [
    "model = load_model(r'C:\\Users\\mehta\\OneDrive\\Desktop\\Face_Emotion_Detection\\my_model.h5')"
   ]
  },
  {
   "cell_type": "code",
   "execution_count": 37,
   "id": "5c3b2c03",
   "metadata": {},
   "outputs": [],
   "source": [
    "model_json = model.to_json()\n",
    "with open(r\"C:\\Users\\mehta\\OneDrive\\Desktop\\Face_Emotion_Detection\\my_model.json\",'w') as json_file:\n",
    "    json_file.write(model_json)\n",
    "model.save(r\"C:\\Users\\mehta\\OneDrive\\Desktop\\Face_Emotion_Detection\\my_model.h5\")"
   ]
  },
  {
   "cell_type": "code",
   "execution_count": 36,
   "id": "60747712",
   "metadata": {},
   "outputs": [],
   "source": [
    "from tensorflow.keras.models import model_from_json"
   ]
  },
  {
   "cell_type": "code",
   "execution_count": 28,
   "id": "a69ca6f0-3fb6-45d9-82c6-78cc7cc590b9",
   "metadata": {},
   "outputs": [],
   "source": [
    "label = ['angry','disgust','fear','happy','neutral','sad','surprise']"
   ]
  },
  {
   "cell_type": "code",
   "execution_count": 31,
   "id": "cfe3d6f0-d879-4c22-8d90-5374799853fd",
   "metadata": {},
   "outputs": [],
   "source": [
    "def ef(image):\n",
    "    img = load_img(image,color_mode='grayscale')\n",
    "    feature = np.array(img)\n",
    "    feature = feature.reshape(1,48,48,1)\n",
    "    return feature/255.0"
   ]
  },
  {
   "cell_type": "markdown",
   "id": "2894a86b-0ef0-47d2-bc4a-164a11fb93b3",
   "metadata": {},
   "source": [
    "### Now its time to test the model with the images in the test set"
   ]
  },
  {
   "cell_type": "code",
   "execution_count": 34,
   "id": "1edb3dd0-cca3-4414-a16d-d6fb83b71a23",
   "metadata": {},
   "outputs": [
    {
     "name": "stdout",
     "output_type": "stream",
     "text": [
      "original image is of sad\n",
      "1/1 [==============================] - 0s 26ms/step\n",
      "model prediction is  sad\n"
     ]
    },
    {
     "data": {
      "text/plain": [
       "<matplotlib.image.AxesImage at 0x2549b88dae0>"
      ]
     },
     "execution_count": 34,
     "metadata": {},
     "output_type": "execute_result"
    },
    {
     "data": {
      "image/png": "[encoded data removed]",
      "text/plain": [
       "<Figure size 640x480 with 1 Axes>"
      ]
     },
     "metadata": {},
     "output_type": "display_data"
    }
   ],
   "source": [
    "image = r\"C:\\Users\\mehta\\OneDrive\\Desktop\\Face_Emotion_Detection\\archive\\test\\sad\\PrivateTest_8886048.jpg\"\n",
    "print(\"original image is of sad\")\n",
    "img = ef(image)\n",
    "pred = model.predict(img)\n",
    "pred_label = label[pred.argmax()]\n",
    "print(\"model prediction is \",pred_label)\n",
    "plt.imshow(img.reshape(48,48),cmap='gray')"
   ]
  },
  {
   "cell_type": "code",
   "execution_count": 33,
   "id": "024ac4cf-fdac-45af-bf11-afc576578473",
   "metadata": {},
   "outputs": [
    {
     "name": "stdout",
     "output_type": "stream",
     "text": [
      "original image is of neutral\n",
      "1/1 [==============================] - 0s 31ms/step\n",
      "model prediction is  neutral\n"
     ]
    },
    {
     "data": {
      "text/plain": [
       "<matplotlib.image.AxesImage at 0x2549b7ab730>"
      ]
     },
     "execution_count": 33,
     "metadata": {},
     "output_type": "execute_result"
    },
    {
     "data": {
      "image/png": "[encoded data removed]",
      "text/plain": [
       "<Figure size 640x480 with 1 Axes>"
      ]
     },
     "metadata": {},
     "output_type": "display_data"
    }
   ],
   "source": [
    "image = r\"C:\\Users\\mehta\\OneDrive\\Desktop\\Face_Emotion_Detection\\archive\\test\\neutral\\PrivateTest_49985410.jpg\"\n",
    "print(\"original image is of neutral\")\n",
    "img = ef(image)\n",
    "pred = model.predict(img)\n",
    "pred_label = label[pred.argmax()]\n",
    "print(\"model prediction is \",pred_label)\n",
    "plt.imshow(img.reshape(48,48),cmap='gray')"
   ]
  },
  {
   "cell_type": "code",
   "execution_count": 35,
   "id": "bdb64d72-a165-417a-b461-cdb1a0e81d3d",
   "metadata": {},
   "outputs": [
    {
     "name": "stdout",
     "output_type": "stream",
     "text": [
      "original image is of surprised\n",
      "1/1 [==============================] - 0s 26ms/step\n",
      "model prediction is  happy\n"
     ]
    },
    {
     "data": {
      "text/plain": [
       "<matplotlib.image.AxesImage at 0x255c07f4970>"
      ]
     },
     "execution_count": 35,
     "metadata": {},
     "output_type": "execute_result"
    },
    {
     "data": {
      "image/png": "[encoded data removed]",
      "text/plain": [
       "<Figure size 640x480 with 1 Axes>"
      ]
     },
     "metadata": {},
     "output_type": "display_data"
    }
   ],
   "source": [
    "image = r\"C:\\Users\\mehta\\OneDrive\\Desktop\\Face_Emotion_Detection\\archive\\test\\surprise\\PrivateTest_10712253.jpg\"\n",
    "print(\"original image is of surprised\")\n",
    "img = ef(image)\n",
    "pred = model.predict(img)\n",
    "pred_label = label[pred.argmax()]\n",
    "print(\"model prediction is \",pred_label)\n",
    "plt.imshow(img.reshape(48,48),cmap='gray')"
   ]
  },
  {
   "cell_type": "markdown",
   "id": "60127f27-56bf-485b-8e1a-2e91b24c6577",
   "metadata": {},
   "source": [
    "### Random test samples are checked with the original image and model prediction and fairly good results are obtained\n",
    "#### Here first two images are classified correctly, but the last one is misclassified. Although the model classifies the surprised expression as happy, the similarity between the two expressions in this instance makes the misclassification understandable.\n",
    "\n",
    "\n",
    "\n",
    "\n",
    "\n",
    "\n"
   ]
  }
 ],
 "metadata": {
  "kernelspec": {
   "display_name": "Python 3.10 (py310)",
   "language": "python",
   "name": "py310"
  },
  "language_info": {
   "codemirror_mode": {
    "name": "ipython",
    "version": 3
   },
   "file_extension": ".py",
   "mimetype": "text/x-python",
   "name": "python",
   "nbconvert_exporter": "python",
   "pygments_lexer": "ipython3",
   "version": "3.10.14"
  }
 },
 "nbformat": 4,
 "nbformat_minor": 5
}
